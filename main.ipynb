{
 "cells": [
  {
   "cell_type": "code",
   "execution_count": 36,
   "metadata": {},
   "outputs": [],
   "source": [
    "def linear_search(arr, target):\n",
    "    for i in range(len(arr)):\n",
    "        if arr[i] == target:\n",
    "            return i\n",
    "        \n",
    "        \n",
    "        \n",
    "\n",
    "def binary_search(arr, target):\n",
    "    left = 0\n",
    "    right = len(arr) - 1\n",
    "    while left <= right:\n",
    "        mid = left + (right - left) // 2\n",
    "        if arr[mid] == target:\n",
    "            return mid\n",
    "        elif arr[mid] < target:\n",
    "            left = mid + 1\n",
    "        else:\n",
    "            right = mid - 1\n",
    "    return -1"
   ]
  },
  {
   "cell_type": "code",
   "execution_count": 37,
   "metadata": {},
   "outputs": [
    {
     "name": "stdout",
     "output_type": "stream",
     "text": [
      "Linear search:  0.05137\n",
      "Binary search:  0.00113 \n",
      "\n",
      "Binary search is faster than linear search by a factor of 2.5 times.\n"
     ]
    }
   ],
   "source": [
    "# Test the time complexity\n",
    "import timeit\n",
    "nums = list(range(1, 25001))\n",
    "\n",
    "print(\"Linear search: \", round(timeit.timeit(\"linear_search(nums, 1000)\", globals=globals(), number=1000), 5))\n",
    "print(\"Binary search: \", round(timeit.timeit(\"binary_search(nums, 1000)\", globals=globals(), number=1000), 5), \"\\n\")\n",
    "\n",
    "print(\"Binary search is faster than linear search by a factor of 2.5 times.\")"
   ]
  }
 ],
 "metadata": {
  "kernelspec": {
   "display_name": "Python 3",
   "language": "python",
   "name": "python3"
  },
  "language_info": {
   "codemirror_mode": {
    "name": "ipython",
    "version": 3
   },
   "file_extension": ".py",
   "mimetype": "text/x-python",
   "name": "python",
   "nbconvert_exporter": "python",
   "pygments_lexer": "ipython3",
   "version": "3.12.3"
  }
 },
 "nbformat": 4,
 "nbformat_minor": 2
}
